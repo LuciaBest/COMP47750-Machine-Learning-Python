{
 "cells": [
  {
   "cell_type": "markdown",
   "id": "1ca7a77f",
   "metadata": {},
   "source": [
    "Assignment 1 k-NN DTW\n",
    "="
   ]
  },
  {
   "cell_type": "markdown",
   "id": "aa926659",
   "metadata": {},
   "source": [
    "Task 1-1 implement a 1-NN DTW classifier\n",
    "--"
   ]
  },
  {
   "cell_type": "code",
   "execution_count": 1,
   "id": "90b44830",
   "metadata": {},
   "outputs": [],
   "source": [
    "# DTW background\n",
    "import numpy as np\n",
    "\n",
    "def dtw(s, t, window=4):\n",
    "    n, m = len(s), len(t)\n",
    "    w = np.max([window, abs(n-m)]) # warping cannot be less than the difference in lengths. \n",
    "    dtw_matrix = np.zeros((n+1, m+1))\n",
    "    \n",
    "    for i in range(n+1):\n",
    "        for j in range(m+1):\n",
    "            dtw_matrix[i, j] = np.inf\n",
    "    dtw_matrix[0, 0] = 0\n",
    "    \n",
    "    for i in range(1, n+1):\n",
    "        for j in range(np.max([1, i-w]), np.min([m, i+w])+1):\n",
    "            dtw_matrix[i, j] = 0\n",
    "    \n",
    "    for i in range(1, n+1):\n",
    "        for j in range(np.max([1, i-w]), np.min([m, i+w])+1):\n",
    "            cost = abs(s[i-1] - t[j-1])\n",
    "            # take last min from a square box\n",
    "            last_min = np.min([dtw_matrix[i-1, j], dtw_matrix[i, j-1], dtw_matrix[i-1, j-1]])\n",
    "            dtw_matrix[i, j] = cost + last_min\n",
    "    return dtw_matrix[-1,-1]"
   ]
  },
  {
   "cell_type": "code",
   "execution_count": 2,
   "id": "3860c2bb",
   "metadata": {},
   "outputs": [],
   "source": [
    "#DTW classifier function\n",
    "\n",
    "def DTWClassifier(x_train,y_train,x_test,w):\n",
    "    y=np.array([])\n",
    "    distance=[]\n",
    "    \n",
    "    for n in range(len(x_test)):#测试集的每一行\n",
    "        for m in range(len(x_train)):#与训练集的每一行计算距离\n",
    "            distance.append(dtw(x_test[n],x_train[m],w))\n",
    "        num=distance.index(min(distance)) #get the row which has shortest distance to the test row\n",
    "        y=np.append(y, y_train[num]) # use this y as the predict result\n",
    "        distance.clear()\n",
    "        \n",
    "    return y"
   ]
  },
  {
   "cell_type": "markdown",
   "id": "f07437d6",
   "metadata": {},
   "source": [
    "Task 1-2 Test the performance of DTW classifier\n",
    "--"
   ]
  },
  {
   "cell_type": "code",
   "execution_count": 3,
   "id": "7fa97bd8",
   "metadata": {},
   "outputs": [
    {
     "data": {
      "text/html": [
       "<div>\n",
       "<style scoped>\n",
       "    .dataframe tbody tr th:only-of-type {\n",
       "        vertical-align: middle;\n",
       "    }\n",
       "\n",
       "    .dataframe tbody tr th {\n",
       "        vertical-align: top;\n",
       "    }\n",
       "\n",
       "    .dataframe thead th {\n",
       "        text-align: right;\n",
       "    }\n",
       "</style>\n",
       "<table border=\"1\" class=\"dataframe\">\n",
       "  <thead>\n",
       "    <tr style=\"text-align: right;\">\n",
       "      <th></th>\n",
       "      <th>0</th>\n",
       "      <th>1</th>\n",
       "      <th>2</th>\n",
       "      <th>3</th>\n",
       "      <th>4</th>\n",
       "      <th>5</th>\n",
       "      <th>6</th>\n",
       "      <th>7</th>\n",
       "      <th>8</th>\n",
       "      <th>9</th>\n",
       "      <th>...</th>\n",
       "      <th>141</th>\n",
       "      <th>142</th>\n",
       "      <th>143</th>\n",
       "      <th>144</th>\n",
       "      <th>145</th>\n",
       "      <th>146</th>\n",
       "      <th>147</th>\n",
       "      <th>148</th>\n",
       "      <th>149</th>\n",
       "      <th>150</th>\n",
       "    </tr>\n",
       "  </thead>\n",
       "  <tbody>\n",
       "    <tr>\n",
       "      <th>0</th>\n",
       "      <td>1.0</td>\n",
       "      <td>0.017644</td>\n",
       "      <td>0.030949</td>\n",
       "      <td>0.050555</td>\n",
       "      <td>0.044484</td>\n",
       "      <td>0.053277</td>\n",
       "      <td>0.041576</td>\n",
       "      <td>0.030947</td>\n",
       "      <td>0.027086</td>\n",
       "      <td>0.013764</td>\n",
       "      <td>...</td>\n",
       "      <td>0.024575</td>\n",
       "      <td>0.033780</td>\n",
       "      <td>0.026589</td>\n",
       "      <td>0.013932</td>\n",
       "      <td>0.024928</td>\n",
       "      <td>0.022589</td>\n",
       "      <td>0.038248</td>\n",
       "      <td>0.049838</td>\n",
       "      <td>0.053419</td>\n",
       "      <td>0.040420</td>\n",
       "    </tr>\n",
       "    <tr>\n",
       "      <th>1</th>\n",
       "      <td>1.0</td>\n",
       "      <td>0.041296</td>\n",
       "      <td>0.003551</td>\n",
       "      <td>0.027470</td>\n",
       "      <td>0.013158</td>\n",
       "      <td>0.009571</td>\n",
       "      <td>0.008074</td>\n",
       "      <td>0.043743</td>\n",
       "      <td>0.040592</td>\n",
       "      <td>0.012190</td>\n",
       "      <td>...</td>\n",
       "      <td>0.060539</td>\n",
       "      <td>0.046991</td>\n",
       "      <td>0.023586</td>\n",
       "      <td>0.001562</td>\n",
       "      <td>-0.002196</td>\n",
       "      <td>0.036730</td>\n",
       "      <td>0.039027</td>\n",
       "      <td>0.007754</td>\n",
       "      <td>0.004697</td>\n",
       "      <td>0.031440</td>\n",
       "    </tr>\n",
       "    <tr>\n",
       "      <th>2</th>\n",
       "      <td>1.0</td>\n",
       "      <td>-0.000720</td>\n",
       "      <td>0.013283</td>\n",
       "      <td>0.029450</td>\n",
       "      <td>0.045201</td>\n",
       "      <td>0.006317</td>\n",
       "      <td>0.018805</td>\n",
       "      <td>0.028901</td>\n",
       "      <td>0.013832</td>\n",
       "      <td>0.015240</td>\n",
       "      <td>...</td>\n",
       "      <td>0.016442</td>\n",
       "      <td>0.039508</td>\n",
       "      <td>0.015171</td>\n",
       "      <td>0.034708</td>\n",
       "      <td>0.010835</td>\n",
       "      <td>0.002942</td>\n",
       "      <td>0.006924</td>\n",
       "      <td>0.029502</td>\n",
       "      <td>0.040786</td>\n",
       "      <td>0.023144</td>\n",
       "    </tr>\n",
       "    <tr>\n",
       "      <th>3</th>\n",
       "      <td>1.0</td>\n",
       "      <td>0.005201</td>\n",
       "      <td>0.013363</td>\n",
       "      <td>0.025733</td>\n",
       "      <td>0.026653</td>\n",
       "      <td>0.038946</td>\n",
       "      <td>0.012494</td>\n",
       "      <td>0.028303</td>\n",
       "      <td>0.032011</td>\n",
       "      <td>0.009467</td>\n",
       "      <td>...</td>\n",
       "      <td>0.006383</td>\n",
       "      <td>0.037448</td>\n",
       "      <td>0.044335</td>\n",
       "      <td>0.011143</td>\n",
       "      <td>-0.003624</td>\n",
       "      <td>0.001467</td>\n",
       "      <td>0.020991</td>\n",
       "      <td>0.027675</td>\n",
       "      <td>0.001621</td>\n",
       "      <td>0.015858</td>\n",
       "    </tr>\n",
       "    <tr>\n",
       "      <th>4</th>\n",
       "      <td>1.0</td>\n",
       "      <td>0.022926</td>\n",
       "      <td>0.027036</td>\n",
       "      <td>0.011668</td>\n",
       "      <td>0.019500</td>\n",
       "      <td>0.036049</td>\n",
       "      <td>-0.001297</td>\n",
       "      <td>0.019717</td>\n",
       "      <td>0.039583</td>\n",
       "      <td>0.020628</td>\n",
       "      <td>...</td>\n",
       "      <td>0.026997</td>\n",
       "      <td>0.036653</td>\n",
       "      <td>0.018117</td>\n",
       "      <td>0.018314</td>\n",
       "      <td>0.012536</td>\n",
       "      <td>0.040599</td>\n",
       "      <td>0.016590</td>\n",
       "      <td>0.032730</td>\n",
       "      <td>0.002498</td>\n",
       "      <td>0.011260</td>\n",
       "    </tr>\n",
       "  </tbody>\n",
       "</table>\n",
       "<p>5 rows × 151 columns</p>\n",
       "</div>"
      ],
      "text/plain": [
       "     0         1         2         3         4         5         6         7  \\\n",
       "0  1.0  0.017644  0.030949  0.050555  0.044484  0.053277  0.041576  0.030947   \n",
       "1  1.0  0.041296  0.003551  0.027470  0.013158  0.009571  0.008074  0.043743   \n",
       "2  1.0 -0.000720  0.013283  0.029450  0.045201  0.006317  0.018805  0.028901   \n",
       "3  1.0  0.005201  0.013363  0.025733  0.026653  0.038946  0.012494  0.028303   \n",
       "4  1.0  0.022926  0.027036  0.011668  0.019500  0.036049 -0.001297  0.019717   \n",
       "\n",
       "          8         9  ...       141       142       143       144       145  \\\n",
       "0  0.027086  0.013764  ...  0.024575  0.033780  0.026589  0.013932  0.024928   \n",
       "1  0.040592  0.012190  ...  0.060539  0.046991  0.023586  0.001562 -0.002196   \n",
       "2  0.013832  0.015240  ...  0.016442  0.039508  0.015171  0.034708  0.010835   \n",
       "3  0.032011  0.009467  ...  0.006383  0.037448  0.044335  0.011143 -0.003624   \n",
       "4  0.039583  0.020628  ...  0.026997  0.036653  0.018117  0.018314  0.012536   \n",
       "\n",
       "        146       147       148       149       150  \n",
       "0  0.022589  0.038248  0.049838  0.053419  0.040420  \n",
       "1  0.036730  0.039027  0.007754  0.004697  0.031440  \n",
       "2  0.002942  0.006924  0.029502  0.040786  0.023144  \n",
       "3  0.001467  0.020991  0.027675  0.001621  0.015858  \n",
       "4  0.040599  0.016590  0.032730  0.002498  0.011260  \n",
       "\n",
       "[5 rows x 151 columns]"
      ]
     },
     "execution_count": 3,
     "metadata": {},
     "output_type": "execute_result"
    }
   ],
   "source": [
    "import pandas as pd\n",
    "\n",
    "#read the file\n",
    "file_path = \"UMD_TEST.txt\"\n",
    "file = pd.read_csv(file_path,sep='\\s+',header=None)\n",
    "#将列名转化为str，方便后续操作指定\n",
    "file.columns = file.columns.astype(str)\n",
    "file.head()"
   ]
  },
  {
   "cell_type": "code",
   "execution_count": 4,
   "id": "2c177526",
   "metadata": {},
   "outputs": [],
   "source": [
    "from sklearn.model_selection import train_test_split\n",
    "from sklearn.metrics import accuracy_score\n",
    "\n",
    "#split test-set & train-set\n",
    "file_train, file_test= train_test_split(file, test_size=0.2,random_state=42)\n",
    "y_train=file_train.pop('0').values\n",
    "x_train=file_train.values\n",
    "y_test =file_test.pop('0').values\n",
    "x_test =file_test.values\n"
   ]
  },
  {
   "cell_type": "code",
   "execution_count": 6,
   "id": "8b96080e",
   "metadata": {},
   "outputs": [
    {
     "name": "stdout",
     "output_type": "stream",
     "text": [
      "1-NN DTW needs 56.86910700798035 seconds to predict the result\n",
      "1-NN DTW has 0.9655172413793104 accuracy\n"
     ]
    }
   ],
   "source": [
    "#predict y_test\n",
    "import time\n",
    "start_time=time.time()\n",
    "\n",
    "y_pred_dtw=DTWClassifier(x_train,y_train,x_test,4)\n",
    "\n",
    "end_time=time.time()\n",
    "cost_time_1=end_time-start_time\n",
    "print('1-NN DTW needs',cost_time_1,'seconds to predict the result')\n",
    "\n",
    "#compute the accuracy score of DTW classifier\n",
    "acc_dtw = accuracy_score(y_test, y_pred_dtw)\n",
    "\n",
    "print('1-NN DTW has',acc_dtw,'accuracy')"
   ]
  },
  {
   "cell_type": "markdown",
   "id": "676bd625",
   "metadata": {},
   "source": [
    "Task 1-3 Compare the 1-NN DTW performance with 1-NN Euclidean\n",
    "--"
   ]
  },
  {
   "cell_type": "code",
   "execution_count": 9,
   "id": "954fe045",
   "metadata": {},
   "outputs": [
    {
     "name": "stdout",
     "output_type": "stream",
     "text": [
      "1-NN Euclidean needs 0.4299759864807129 seconds to predict the result\n",
      "1-NN Euclidean has 0.896551724137931 accuracy\n"
     ]
    }
   ],
   "source": [
    "from sklearn.metrics import DistanceMetric\n",
    "from sklearn.metrics.pairwise import euclidean_distances\n",
    "from scipy.spatial import distance\n",
    "\n",
    "\n",
    "# use scikit-learn Euclidean distance to replace \n",
    "def EucClassifier(x_train,y_train,x_test):\n",
    "    y=np.array([])\n",
    "    dist=[]\n",
    "    #dist = DistanceMetric.get_metric('euclidean')\n",
    "        \n",
    "    for n in range(len(x_test)):# 测试集的每一行\n",
    "        for m in range(len(x_train)):# 与训练集的每一行计算距离\n",
    "            dist.append(float(euclidean_distances(np.expand_dims(x_test[n],0),np.expand_dims(x_train[m],0)).flatten()))\n",
    "        num=dist.index(min(dist)) #get the row from train-set which has shortest distance to the test row\n",
    "        y=np.append(y, y_train[num]) # use this y as the predict result\n",
    "        dist.clear()\n",
    "        \n",
    "    return y\n",
    "\n",
    "start_time=time.time()\n",
    "y_pred_euc=EucClassifier(x_train,y_train,x_test)\n",
    "end_time=time.time()\n",
    "cost_time_2=end_time-start_time\n",
    "print('1-NN Euclidean needs',cost_time_2,'seconds to predict the result')\n",
    "acc_euc = accuracy_score(y_test, y_pred_euc)\n",
    "\n",
    "print('1-NN Euclidean has',acc_euc,'accuracy')"
   ]
  },
  {
   "cell_type": "markdown",
   "id": "fb5c8e83",
   "metadata": {},
   "source": [
    "The accuracy for 1-NN Euclidean is 0.897, which costs 0.43 seconds.\n",
    "--\n",
    "The accuracy for 1-NN DTW is 0.965, which costs 56 seconds.\n",
    "--"
   ]
  },
  {
   "cell_type": "markdown",
   "id": "b85a3061",
   "metadata": {},
   "source": [
    "Task 1-4 Find the best value for the window parameter\n",
    "--"
   ]
  },
  {
   "cell_type": "code",
   "execution_count": 10,
   "id": "816cf1a2",
   "metadata": {},
   "outputs": [
    {
     "name": "stdout",
     "output_type": "stream",
     "text": [
      "1 0.8620689655172413\n",
      "2 0.8620689655172413\n",
      "3 0.8620689655172413\n",
      "4 0.9655172413793104\n",
      "5 0.9655172413793104\n",
      "6 0.9655172413793104\n",
      "7 0.9655172413793104\n",
      "8 0.9655172413793104\n",
      "9 0.9655172413793104\n"
     ]
    }
   ],
   "source": [
    "from sklearn.metrics import  accuracy_score\n",
    "\n",
    "for w in range(1,10):\n",
    "    y_pred=DTWClassifier(x_train,y_train,x_test,w)\n",
    "    acc = accuracy_score(y_test, y_pred)\n",
    "    print(w, acc)"
   ]
  },
  {
   "cell_type": "markdown",
   "id": "b66ebd87",
   "metadata": {},
   "source": [
    "When windows=4, we get the highest accurancy.\n",
    "\n",
    "Before this, I try the windows values from 1 to 150(cost really long time), the accurancy increased from 1 to 4, but stopped after 5.\n",
    "\n",
    "Then I use windows=4 in all DTW function in this assignment."
   ]
  },
  {
   "cell_type": "markdown",
   "id": "3e6c2691",
   "metadata": {},
   "source": [
    "Task 2-1 Use DTW code as the metric parameter in scikit-learn k-NN  classifier\n",
    "--"
   ]
  },
  {
   "cell_type": "code",
   "execution_count": 11,
   "id": "f9d08ab1",
   "metadata": {},
   "outputs": [
    {
     "data": {
      "text/plain": [
       "KNeighborsClassifier(metric=<function dtw at 0x7f8344d519d0>, n_neighbors=1)"
      ]
     },
     "execution_count": 11,
     "metadata": {},
     "output_type": "execute_result"
    }
   ],
   "source": [
    "from sklearn.neighbors import KNeighborsClassifier\n",
    "clf = KNeighborsClassifier(n_neighbors=1, metric=dtw)\n",
    "clf.fit(x_train,y_train)\n"
   ]
  },
  {
   "cell_type": "markdown",
   "id": "1034eae7",
   "metadata": {},
   "source": [
    "Task 2-2 Test the performance : KNN with DTW vs. DTWClassifier\n",
    "--"
   ]
  },
  {
   "cell_type": "code",
   "execution_count": 12,
   "id": "533f56eb",
   "metadata": {},
   "outputs": [
    {
     "name": "stdout",
     "output_type": "stream",
     "text": [
      "KNN DTW needs 57.986408948898315 seconds to predict the result\n",
      "the accuracy for KNN with DTW is 0.9655172413793104\n",
      "the accuracy for DTWClassifier is 0.9655172413793104\n"
     ]
    }
   ],
   "source": [
    "\n",
    "start_time=time.time()\n",
    "y_pred_kd = clf.predict(x_test)\n",
    "end_time=time.time()\n",
    "cost_time=end_time-start_time\n",
    "print('KNN DTW needs',cost_time,'seconds to predict the result')\n",
    "\n",
    "acc_kd = accuracy_score(y_test, y_pred_kd)\n",
    "print('the accuracy for KNN with DTW is',acc_kd)\n",
    "print('the accuracy for DTWClassifier is',acc_dtw)"
   ]
  },
  {
   "cell_type": "markdown",
   "id": "c6503894",
   "metadata": {},
   "source": [
    "the accuracy for 1-NN DTW is equal to KNN with DTW."
   ]
  },
  {
   "cell_type": "markdown",
   "id": "29907045",
   "metadata": {},
   "source": [
    "Task 2-3 Compare with k-NN Euclidean\n",
    "--"
   ]
  },
  {
   "cell_type": "code",
   "execution_count": 15,
   "id": "e93df8af",
   "metadata": {},
   "outputs": [
    {
     "name": "stdout",
     "output_type": "stream",
     "text": [
      "when n_neighbors= 1 the accuracy is 0.896551724137931 k-NN Euclidean costs 0.0045261383056640625 seconds\n",
      "when n_neighbors= 2 the accuracy is 0.7586206896551724 k-NN Euclidean costs 0.0063130855560302734 seconds\n",
      "when n_neighbors= 3 the accuracy is 0.9310344827586207 k-NN Euclidean costs 0.005640983581542969 seconds\n",
      "when n_neighbors= 4 the accuracy is 0.896551724137931 k-NN Euclidean costs 0.003136873245239258 seconds\n",
      "when n_neighbors= 5 the accuracy is 0.9310344827586207 k-NN Euclidean costs 0.0034339427947998047 seconds\n",
      "when n_neighbors= 6 the accuracy is 0.8620689655172413 k-NN Euclidean costs 0.004797935485839844 seconds\n",
      "when n_neighbors= 7 the accuracy is 0.8275862068965517 k-NN Euclidean costs 0.003407001495361328 seconds\n",
      "when n_neighbors= 8 the accuracy is 0.8620689655172413 k-NN Euclidean costs 0.0037081241607666016 seconds\n",
      "when n_neighbors= 9 the accuracy is 0.8620689655172413 k-NN Euclidean costs 0.003336191177368164 seconds\n",
      "when n_neighbors= 10 the accuracy is 0.8620689655172413 k-NN Euclidean costs 0.003287076950073242 seconds\n"
     ]
    }
   ],
   "source": [
    "for n in range(1,11):\n",
    "    knn = KNeighborsClassifier(n_neighbors=n)\n",
    "    start_time=time.time()\n",
    "    knn.fit(x_train,y_train)\n",
    "    y_pred_knn = knn.predict(x_test)\n",
    "    end_time=time.time()\n",
    "    cost_time=end_time-start_time\n",
    "    acc_knn = accuracy_score(y_test, y_pred_knn)\n",
    "    print('when n_neighbors=',n,'the accuracy is',acc_knn,'k-NN Euclidean costs',cost_time,'seconds')"
   ]
  },
  {
   "cell_type": "markdown",
   "id": "1979015c",
   "metadata": {},
   "source": [
    "The accuracy for 1-NN DTW classifier is 0.966;\n",
    "\n",
    "The accuracy for 1-NN Euclidean classifier is 0.897;\n",
    "\n",
    "The accuracy for k-NN classifier with DTW distance is 0.966(n_neighbors=1);\n",
    "\n",
    "The accuracy for k-NN classifier with Euclidean distance is 0.93(n_neighbors=3)."
   ]
  },
  {
   "cell_type": "markdown",
   "id": "adbe7537",
   "metadata": {},
   "source": [
    "When predict this time series, DTW distance has better accuracy performance than Euclidean distance.\n",
    "--\n",
    "\n",
    "But when computing DTW distance, it needs much more time than Euclidean distance.\n",
    "--"
   ]
  }
 ],
 "metadata": {
  "kernelspec": {
   "display_name": "Python 3 (ipykernel)",
   "language": "python",
   "name": "python3"
  },
  "language_info": {
   "codemirror_mode": {
    "name": "ipython",
    "version": 3
   },
   "file_extension": ".py",
   "mimetype": "text/x-python",
   "name": "python",
   "nbconvert_exporter": "python",
   "pygments_lexer": "ipython3",
   "version": "3.9.12"
  }
 },
 "nbformat": 4,
 "nbformat_minor": 5
}
